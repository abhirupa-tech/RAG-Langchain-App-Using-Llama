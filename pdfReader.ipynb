{
 "cells": [
  {
   "cell_type": "markdown",
   "metadata": {},
   "source": [
    "<h2>Read Content From PDf - To be Used For RAG</h2>\n",
    "Post Reading, store in a file as Datafram, woith each Paragraph/ Page content as a Row"
   ]
  },
  {
   "cell_type": "code",
   "execution_count": 1,
   "metadata": {},
   "outputs": [
    {
     "name": "stderr",
     "output_type": "stream",
     "text": [
      "f:\\GitHub\\RAG-Langchain-App-Using-Llama\\llama3\\Lib\\site-packages\\sentence_transformers\\cross_encoder\\CrossEncoder.py:11: TqdmExperimentalWarning: Using `tqdm.autonotebook.tqdm` in notebook mode. Use `tqdm.tqdm` instead to force console mode (e.g. in jupyter console)\n",
      "  from tqdm.autonotebook import tqdm, trange\n"
     ]
    }
   ],
   "source": [
    "from sentence_transformers import SentenceTransformer\n",
    "from sentence_transformers.util import cos_sim\n",
    "from sentence_transformers.quantization import quantize_embeddings\n",
    "\n",
    "# 2. load model\n",
    "SentenceTransformer = SentenceTransformer(\"mixedbread-ai/mxbai-embed-large-v1\")"
   ]
  },
  {
   "cell_type": "code",
   "execution_count": 3,
   "metadata": {},
   "outputs": [],
   "source": [
    "from PyPDF2 import PdfReader\n",
    "import pandas as pd\n",
    "reader = PdfReader(\"sourceData\\A Brief History of Time .. Stephen Hawking.pdf\")\n",
    "number_of_pages = len(reader.pages)\n",
    "textChunksDF =  pd.DataFrame(columns=['TrainingData', 'Embeddings'])\n"
   ]
  },
  {
   "cell_type": "code",
   "execution_count": 5,
   "metadata": {},
   "outputs": [
    {
     "name": "stdout",
     "output_type": "stream",
     "text": [
      "                                          TrainingData  \\\n",
      "0    Chapter 1  - Our Picture of the UniverseChapte...   \n",
      "1    future (or have we?) but I discuss a possible ...   \n",
      "2    CHAPTER 1OUR PICTURE OF THE UNIVERSE A well-kn...   \n",
      "3    Figure 1:1The planets themselves moved on smal...   \n",
      "4    Kepler, and the Italian, Galileo Galilei – sta...   \n",
      "..                                                 ...   \n",
      "96   GLOSSARY Absolute zero : The lowest possible t...   \n",
      "97   Elementary particle : A particle that, it is b...   \n",
      "98   force.Particle accelerator : A machine that, u...   \n",
      "99   Stationary state : One that is not changing wi...   \n",
      "100  ACKNOWLEDGMENTS Many people have helped me in ...   \n",
      "\n",
      "                                            Embeddings  \n",
      "0    [0.12017979472875595, 0.15168651938438416, 0.4...  \n",
      "1    [0.029344482347369194, 0.002526520751416683, 0...  \n",
      "2    [0.20948801934719086, 0.2716869115829468, 0.53...  \n",
      "3    [0.1858314573764801, 0.3157446086406708, 0.785...  \n",
      "4    [0.10378478467464447, 0.04209050163626671, 0.5...  \n",
      "..                                                 ...  \n",
      "96   [-0.10375858098268509, 0.08440834283828735, 0....  \n",
      "97   [-0.4156252145767212, -0.45168107748031616, 0....  \n",
      "98   [-0.010929952375590801, -0.3700862228870392, 0...  \n",
      "99   [-0.14516785740852356, -0.196247398853302, 0.5...  \n",
      "100  [0.3874731659889221, -0.010221307165920734, 0....  \n",
      "\n",
      "[101 rows x 2 columns]\n"
     ]
    }
   ],
   "source": [
    "#Read content from all pages, compile them into One Txt File\n",
    "for page in range(number_of_pages):\n",
    "    # pageText = reader.pages[page]\n",
    "    plainText = reader.pages[page].extract_text()\n",
    "    newRow = {'TrainingData':plainText.replace(\"\\n\", \"\"),'Embeddings': SentenceTransformer.encode(plainText).astype('object')}\n",
    "    textChunksDF = textChunksDF._append(newRow, ignore_index=True)\n",
    "\n",
    "print(textChunksDF)"
   ]
  },
  {
   "cell_type": "markdown",
   "metadata": {},
   "source": [
    "<h3>Store the generated Dataframe in a file for Retrieval Later</h3>"
   ]
  },
  {
   "cell_type": "code",
   "execution_count": 7,
   "metadata": {},
   "outputs": [],
   "source": [
    "textChunksDF.to_parquet('pageChunksDataSet.parquet', index=False)"
   ]
  },
  {
   "cell_type": "code",
   "execution_count": null,
   "metadata": {},
   "outputs": [],
   "source": []
  }
 ],
 "metadata": {
  "kernelspec": {
   "display_name": "llama3",
   "language": "python",
   "name": "python3"
  },
  "language_info": {
   "codemirror_mode": {
    "name": "ipython",
    "version": 3
   },
   "file_extension": ".py",
   "mimetype": "text/x-python",
   "name": "python",
   "nbconvert_exporter": "python",
   "pygments_lexer": "ipython3",
   "version": "3.11.9"
  }
 },
 "nbformat": 4,
 "nbformat_minor": 2
}
